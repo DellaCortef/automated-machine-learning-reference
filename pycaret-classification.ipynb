{
 "cells": [
  {
   "cell_type": "markdown",
   "id": "8cf2c9e1",
   "metadata": {},
   "source": [
    "## Importing Libs"
   ]
  },
  {
   "cell_type": "code",
   "execution_count": 1,
   "id": "90eab6db",
   "metadata": {},
   "outputs": [
    {
     "name": "stderr",
     "output_type": "stream",
     "text": [
      "/Users/dellacorte/opt/anaconda3/lib/python3.9/site-packages/pandas/core/computation/expressions.py:21: UserWarning: Pandas requires version '2.8.4' or newer of 'numexpr' (version '2.8.3' currently installed).\n",
      "  from pandas.core.computation.check import NUMEXPR_INSTALLED\n",
      "/Users/dellacorte/opt/anaconda3/lib/python3.9/site-packages/pandas/core/arrays/masked.py:60: UserWarning: Pandas requires version '1.3.6' or newer of 'bottleneck' (version '1.3.5' currently installed).\n",
      "  from pandas.core import (\n"
     ]
    }
   ],
   "source": [
    "# Standard libs\n",
    "import numpy as np\n",
    "import pandas as pd"
   ]
  },
  {
   "cell_type": "markdown",
   "id": "406c823a",
   "metadata": {},
   "source": [
    "## Loading Data"
   ]
  },
  {
   "cell_type": "code",
   "execution_count": null,
   "id": "b7becb8a",
   "metadata": {},
   "outputs": [],
   "source": [
    "# Load data\n",
    "\n",
    "root_folder = '/Users/dellacorte/py-projects/data-science/'\n",
    "\n",
    "df_abt = pd.read_csv(f'{raiz_folder}/propensao_revenda_abt.csv')\n",
    "\n",
    "# get the training base\n",
    "df_train = df_abt.query('data_ref_safra < \"2018-03-01\"')\n",
    "\n",
    "# get the evaluation base (out of time)\n",
    "df_oot = df_abt.query('data_ref_safra == \"2018-03-01\"')"
   ]
  }
 ],
 "metadata": {
  "kernelspec": {
   "display_name": "Python 3 (ipykernel)",
   "language": "python",
   "name": "python3"
  },
  "language_info": {
   "codemirror_mode": {
    "name": "ipython",
    "version": 3
   },
   "file_extension": ".py",
   "mimetype": "text/x-python",
   "name": "python",
   "nbconvert_exporter": "python",
   "pygments_lexer": "ipython3",
   "version": "3.9.13"
  }
 },
 "nbformat": 4,
 "nbformat_minor": 5
}
